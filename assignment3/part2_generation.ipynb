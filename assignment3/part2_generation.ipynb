{
 "cells": [
  {
   "cell_type": "markdown",
   "metadata": {},
   "source": [
    "# Prepare data\n",
    "\n",
    "The file we are using is a plain text file. We turn any potential unicode characters into plain ASCII by using the `unidecode` package (which you can install via `pip` or `conda`)."
   ]
  },
  {
   "cell_type": "code",
   "execution_count": 1,
   "metadata": {},
   "outputs": [
    {
     "name": "stdout",
     "output_type": "stream",
     "text": [
      "file_len = 2993531\n"
     ]
    }
   ],
   "source": [
    "import unidecode\n",
    "import string\n",
    "import random\n",
    "import re\n",
    "import csv\n",
    "\n",
    "all_characters = string.printable\n",
    "n_characters = len(all_characters)\n",
    "\n",
    "#file = unidecode.unidecode(open('./data/lyrics.txt', encoding='utf-8', errors='ignore').read())\n",
    "file = ''\n",
    "with open('./data/lyrics.txt', encoding='utf-8', errors='ignore') as read_file:\n",
    "    for row in read_file:\n",
    "        file += unidecode.unidecode(row[row.find(' ') + 1:])\n",
    "\n",
    "file_val = file[-1000:]\n",
    "file = file[:-1000]\n",
    "file_len = len(file)\n",
    "print('file_len =', file_len)"
   ]
  },
  {
   "cell_type": "markdown",
   "metadata": {},
   "source": [
    "To make inputs out of this big string of data, we will be splitting it into chunks."
   ]
  },
  {
   "cell_type": "code",
   "execution_count": 2,
   "metadata": {},
   "outputs": [
    {
     "name": "stdout",
     "output_type": "stream",
     "text": [
      "G OF YOU \n",
      "I CAN'T BE TOO LATE TO SAY THAT I WAS \n",
      "ARE YOU FEELING IT TOO DOES THE FEELING SEEM OH SO RIGHT AND WHAT WOULD YOU SAY IF I CALLED ON YOU NOW \n",
      "OF LOVE WHAT AM I WITHOUT YOU I CAN'T BE TOO LAT\n"
     ]
    }
   ],
   "source": [
    "chunk_len = 200\n",
    "\n",
    "def random_chunk():\n",
    "    start_index = random.randint(0, file_len - chunk_len)\n",
    "    end_index = start_index + chunk_len + 1\n",
    "    return file[start_index:end_index]\n",
    "\n",
    "def random_chunk_val():\n",
    "    start_index = random.randint(0, len(file_val) - chunk_len)\n",
    "    end_index = start_index + chunk_len + 1\n",
    "    return file_val[start_index:end_index]\n",
    "\n",
    "def nonsense_chunk():\n",
    "    string = ''\n",
    "    for _ in range(chunk_len):\n",
    "        char_pos = random.randint(0, len(all_characters) - 1)\n",
    "        string += all_characters[char_pos]\n",
    "    return string\n",
    "\n",
    "print(random_chunk())"
   ]
  },
  {
   "cell_type": "markdown",
   "metadata": {},
   "source": [
    "# Build the Model\n",
    "\n",
    "This model will take as input the character for step $t_{-1}$ and is expected to output the next character $t$. There are three layers - one linear layer that encodes the input character into an internal state, one GRU layer (which may itself have multiple layers) that operates on that internal state and a hidden state, and a decoder layer that outputs the probability distribution."
   ]
  },
  {
   "cell_type": "code",
   "execution_count": 3,
   "metadata": {},
   "outputs": [],
   "source": [
    "import torch\n",
    "import torch.nn as nn\n",
    "from torch.autograd import Variable\n",
    "\n",
    "class RNN(nn.Module):\n",
    "    def __init__(self, input_size, hidden_size, output_size, n_layers=1):\n",
    "        super(RNN, self).__init__()\n",
    "        self.input_size = input_size\n",
    "        self.hidden_size = hidden_size\n",
    "        self.output_size = output_size\n",
    "        self.n_layers = n_layers\n",
    "        \n",
    "        self.encoder = nn.Embedding(input_size, hidden_size)\n",
    "        self.gru = nn.GRU(hidden_size, hidden_size, n_layers)\n",
    "        self.decoder = nn.Linear(hidden_size, output_size)\n",
    "    \n",
    "    def forward(self, input, hidden):\n",
    "        input = self.encoder(input.view(1, -1))\n",
    "        output, hidden = self.gru(input.view(1, 1, -1), hidden)\n",
    "        output = self.decoder(output.view(1, -1))\n",
    "        return output, hidden\n",
    "\n",
    "    def init_hidden(self):\n",
    "        return Variable(torch.zeros(self.n_layers, 1, self.hidden_size))"
   ]
  },
  {
   "cell_type": "markdown",
   "metadata": {},
   "source": [
    "# Inputs and Targets"
   ]
  },
  {
   "cell_type": "markdown",
   "metadata": {},
   "source": [
    "Each chunk will be turned into a tensor, specifically a `LongTensor` (used for integer values), by looping through the characters of the string and looking up the index of each character in `all_characters`."
   ]
  },
  {
   "cell_type": "code",
   "execution_count": 4,
   "metadata": {},
   "outputs": [
    {
     "name": "stdout",
     "output_type": "stream",
     "text": [
      "tensor([10, 11, 12, 39, 40, 41])\n"
     ]
    }
   ],
   "source": [
    "# Turn string into list of longs\n",
    "def char_tensor(string):\n",
    "    tensor = torch.zeros(len(string)).long()\n",
    "    for c in range(len(string)):\n",
    "        tensor[c] = all_characters.index(string[c])\n",
    "    return Variable(tensor)\n",
    "\n",
    "print(char_tensor('abcDEF'))"
   ]
  },
  {
   "cell_type": "markdown",
   "metadata": {},
   "source": [
    "Finally we can assemble a pair of input and target tensors for training, from a random chunk. The input will be all characters *up to the last*, and the target will be all characters *from the first*. So if our chunk is \"abc\" the input will correspond to \"ab\" while the target is \"bc\"."
   ]
  },
  {
   "cell_type": "code",
   "execution_count": 5,
   "metadata": {},
   "outputs": [],
   "source": [
    "def random_training_set():    \n",
    "    chunk = random_chunk()\n",
    "    inp = char_tensor(chunk[:-1])\n",
    "    target = char_tensor(chunk[1:])\n",
    "    return inp, target\n",
    "\n",
    "def random_val_set():    \n",
    "    chunk = random_chunk()\n",
    "    inp = char_tensor(chunk[:-1])\n",
    "    target = char_tensor(chunk[1:])\n",
    "    return inp, target"
   ]
  },
  {
   "cell_type": "markdown",
   "metadata": {},
   "source": [
    "# Evaluating\n",
    "\n",
    "To evaluate the network we will feed one character at a time, use the outputs of the network as a probability distribution for the next character, and repeat. To start generation we pass a priming string to start building up the hidden state, from which we then generate one character at a time."
   ]
  },
  {
   "cell_type": "code",
   "execution_count": 41,
   "metadata": {},
   "outputs": [],
   "source": [
    "import math\n",
    "def evaluate(prime_str='A', prime_str_len=100, temperature=0.8):\n",
    "    hidden = decoder.init_hidden()\n",
    "    prime_input = char_tensor(prime_str)\n",
    "    predicted = prime_str\n",
    "\n",
    "    # Use priming string to \"build up\" hidden state\n",
    "    for p in range(prime_str_len):\n",
    "        _, hidden = decoder(prime_input[p], hidden)\n",
    "    inp = prime_input[-1]\n",
    "    sum_of_log = 0\n",
    "    \n",
    "    for p in range(prime_str_len, len(prime_str) - 1):\n",
    "        output, hidden = decoder(inp, hidden)\n",
    "        \n",
    "        # Sample from the network as a multinomial distribution\n",
    "        output_dist = output.data.view(-1).div(temperature).exp()\n",
    "        top_i = torch.multinomial(output_dist, 1)[0]\n",
    "        \n",
    "        normalized_outpus_dist = output_dist / output_dist.sum()\n",
    "        char_pos = all_characters.index(prime_str[p + 1])\n",
    "        sum_of_log += math.log(normalized_outpus_dist[char_pos])\n",
    "        \n",
    "        # Add predicted character to string and use as next input\n",
    "        predicted_char = all_characters[top_i]\n",
    "        predicted += predicted_char\n",
    "        inp = char_tensor(predicted_char)\n",
    "    \n",
    "    perplexity = sum_of_log * (-1) / (len(prime_str))\n",
    "    return predicted, perplexity"
   ]
  },
  {
   "cell_type": "markdown",
   "metadata": {},
   "source": [
    "# Training"
   ]
  },
  {
   "cell_type": "markdown",
   "metadata": {},
   "source": [
    "A helper to print the amount of time passed:"
   ]
  },
  {
   "cell_type": "code",
   "execution_count": 7,
   "metadata": {},
   "outputs": [],
   "source": [
    "import time, math\n",
    "\n",
    "def time_since(since):\n",
    "    s = time.time() - since\n",
    "    m = math.floor(s / 60)\n",
    "    s -= m * 60\n",
    "    return '%dm %ds' % (m, s)"
   ]
  },
  {
   "cell_type": "markdown",
   "metadata": {},
   "source": [
    "The main training function"
   ]
  },
  {
   "cell_type": "code",
   "execution_count": 8,
   "metadata": {},
   "outputs": [],
   "source": [
    "def train(inp, target):\n",
    "    hidden = decoder.init_hidden()\n",
    "    decoder.zero_grad()\n",
    "    loss = 0\n",
    "\n",
    "    for c in range(chunk_len):\n",
    "        output, hidden = decoder(inp[c], hidden)\n",
    "        loss += criterion(output, target[c].unsqueeze(0))\n",
    "\n",
    "    loss.backward()\n",
    "    decoder_optimizer.step()\n",
    "\n",
    "    return loss.data.item() / chunk_len"
   ]
  },
  {
   "cell_type": "markdown",
   "metadata": {},
   "source": [
    "Then we define the training parameters, instantiate the model, and start training:"
   ]
  },
  {
   "cell_type": "code",
   "execution_count": 9,
   "metadata": {
    "scrolled": false
   },
   "outputs": [
    {
     "name": "stdout",
     "output_type": "stream",
     "text": [
      "[0m 36s (100 2%) 2.0823]\n",
      "Wh BUT'EL CACAF THE WHOT HOW KDE HER \n",
      "TE BUWSER WTHY \n",
      "INT NO'W THAY AK I THIRP WAY HER OF OUT FUERE \n",
      "W \n",
      "\n",
      "[1m 15s (200 4%) 1.9364]\n",
      "Wh TOL THE MAKE I'S YOU LAY IN THE MAKE GHAT THAT TRAPE TRNET MAKE HIDED YOU POVER I THE I'VER NEAW I  \n",
      "\n",
      "[1m 54s (300 6%) 1.8798]\n",
      "Wh IN YOU \n",
      "LOVE SO IN HEFRE AND I WHAT WHERONG AND DENING \n",
      "I'D'S \n",
      "TO LROM LET NOKED \n",
      "AND TELL \n",
      "IN'T FI \n",
      "\n",
      "[2m 31s (400 8%) 1.4577]\n",
      "Wh YEAH YOU RERETIR LIKE CME TELL WE'RE SEE IS BUT \n",
      "YOU CHE POOME AND THIGHT THIS THE THE CUZ THIS YOU \n",
      "\n",
      "[3m 8s (500 10%) 1.8512]\n",
      "Wh YOUR I TO HEE'S I TO BE THE THE BE ALIKE THIS \n",
      "YOU I'M HER POY YOUR AND COSE CIM AND BUT I'VE MAME  \n",
      "\n",
      "[3m 46s (600 12%) 1.5879]\n",
      "Wh YOUR HOW ME HEART I CAN'T ME STACKING YOUR LET I GO AND YOUR LET A FIVE OUT YOUR HEART WAS THERE I  \n",
      "\n",
      "[4m 23s (700 14%) 1.5579]\n",
      "Wh WO THAT STARTING SID MARASS THE MEARS I WAY TELL AND BABY I CAN LAS I LOVE AND OW AND LAVE I WONG B \n",
      "\n",
      "[5m 2s (800 16%) 1.9602]\n",
      "Wh RIGFORM AND SORMIBE JUST I WAS RUN'T ME WHIS THE HEARD REALL HAS AWAYS AND WHERING WAS I DON'T CAN' \n",
      "\n",
      "[5m 39s (900 18%) 1.5047]\n",
      "Wh THAT HEART THERE'S REMA CUZ I'M HIDE HEART THE NEED TOO AND IT'S AND YIME THE PICEP MICKING THE APA \n",
      "\n",
      "[6m 17s (1000 20%) 1.6741]\n",
      "WhER WORLD YOU GONNING TELL TO LA MY BUT I TO LIKE TELL STILL THE FABLY \n",
      "BUT YEAH TRUE I CRAZY \n",
      "TO MIN \n",
      "\n",
      "[6m 56s (1100 22%) 1.8480]\n",
      "Wh \n",
      "IF YOU KNOW YOU CRY \n",
      "EVERYTHING FRONGER US PUPLE \n",
      "SOMETHING REALLY DOWN OFFRY ASTIT FOOR THE HARD  \n",
      "\n",
      "[7m 34s (1200 24%) 1.4306]\n",
      "Wh IT NOTHER CAN JUST IF IT WAS YILL GIVE I KNOW YEAH YOU CAN HEART ALONGLY LOVE \n",
      "I TO BELIEVE THERE'S \n",
      "\n",
      "[8m 14s (1300 26%) 1.1278]\n",
      "WhT ON THE WAY HOLLY AND I CAN BE ROGNETEN BELLY ON TO WRONG ON FOR THE WHERE YOU \n",
      "IF HERE I CAN FUNDS \n",
      "\n",
      "[8m 54s (1400 28%) 1.5332]\n",
      "WhRE CHANCE THAT I HEART THE WHEN TO HEAD TO HEAD \n",
      "UP OF THE POULD CANES ME CAN'T POWRSHE LIKE ON THE  \n",
      "\n",
      "[9m 31s (1500 30%) 1.3381]\n",
      "Wh \n",
      "AND GIVE ME BABY I KNOW AND HEY CHANCE DAY OF SY AND YOU'RE FEEL I WANT YOU POOKING AND \n",
      "BET RIM B \n",
      "\n",
      "[10m 12s (1600 32%) 1.6623]\n",
      "Wh THE TRING TO YOU'RE OUT SO I CAN FIND AND IT TO LOOK ALL THE KNOW YOU WANT YOU'RE THE SAME THE SURE \n",
      "\n",
      "[10m 51s (1700 34%) 1.5879]\n",
      "Wh ON THE LIKE I COULD CAN THIS WAY BABY THINGS BE CAME BUCK YOUR HAND IF HAPPING ALY SHE'S WANT TO YO \n",
      "\n",
      "[11m 31s (1800 36%) 1.2715]\n",
      "Wh FALL ME NEED YEAH IT NO NEVER SWRIEND AND YOU GOTTANED TELL YOU NOT THE LIVE YOU AND LIKE AND YIUNG \n",
      "\n",
      "[12m 10s (1900 38%) 1.3727]\n",
      "Wh IT \n",
      "ON YOUR LIGHT SOMEN I WLAWN OWN HIS WHEN I MY FACE ON ME FOR I'M GOOD BABY NOW I'M NO I WANNA B \n",
      "\n",
      "[12m 50s (2000 40%) 1.3554]\n",
      "Wh'RE BUNSEF MEAN YOU FOR YOU WISHOUND I DON'T \n",
      "I KNOW YOU WANNA'S MY WISH ME \n",
      "I WANNA BREAK MY AND TH \n",
      "\n",
      "[13m 29s (2100 42%) 1.4481]\n",
      "Wh SO IN THAT I WAS I WANT IT'S WHAT I COOLE WISH TO YOU LOVE IF I OUT IT YOU CAN GET I THE WASTING OK \n",
      "\n",
      "[14m 11s (2200 44%) 1.1730]\n",
      "Wh YOU WAS WAY BOY WE FINE \n",
      "AND \n",
      "I DON'T WANT THE NIGHT THAT PROJBACH OH NO OH YEAH YOU AND THE SAKE T \n",
      "\n",
      "[14m 49s (2300 46%) 1.1402]\n",
      "Wh THE SROKE SHE \n",
      "IT THING STILL HAT WITH THAT I PROMANZED ANYWISH THE REALLY TO SAY I WANNA BE BY DON \n",
      "\n",
      "[15m 27s (2400 48%) 1.3598]\n",
      "Wh HAVE THE SARKS AND LIKE THE HONE LIKE IN CONFESSSE DOWN FEER ABOUT THE HAND SAID NOW YOU FALL OUT O \n",
      "\n",
      "[16m 5s (2500 50%) 1.1849]\n",
      "Wh YOU ARE THE GOOR AT THE WORLD \n",
      "I'M NOT THE NEW ARE FIRE AND MY HEART THE RESECT THERE'S NOT THIS IT \n",
      "\n",
      "[16m 43s (2600 52%) 1.6605]\n",
      "Wh AND ALL ON YEAH YEAH YEAH YEAH ON YOUR PART AND IT AND LATE OUT AT NOT \n",
      "BACK NO BLASTER UP GREAK YO \n",
      "\n",
      "[17m 22s (2700 54%) 1.1504]\n",
      "Wh GOTS AND \n",
      "YEAR MY BACK HIDE YOU DON'T GOTTA SIT THE SUN AND IS \n",
      "JUST THE MAN AND SHE'S TO ME AS TO  \n",
      "\n",
      "[18m 0s (2800 56%) 1.2748]\n",
      "Wh FAD SAY CAPATE BLABE LIKE \n",
      "YOU WANNA LIKE I STANDS \n",
      "BABY WANT YOUR KNOW WHAT OF LIFE \n",
      "BEEN OF A SHI \n",
      "\n",
      "[18m 38s (2900 57%) 1.6949]\n",
      "Wh GOT IF WE'LL CHRISTY MEFTAKING YEAH I WANT YOU DO CAN DO IF I WANT YOU COME ON JUST THE STARS DOWN  \n",
      "\n",
      "[19m 17s (3000 60%) 1.3618]\n",
      "Wh YOU BEST YOUR LITT \n",
      "HER NOT \n",
      "CUZ YOU TO TURNING IN MY HEART TO MATHER NOW GIVE YOU CAN TELL ME TRY  \n",
      "\n",
      "[19m 55s (3100 62%) 1.1687]\n",
      "Wh YOU FHE STOP GO TO MY \n",
      "WANNA I WANT YOU LOVE \n",
      "I DON'T THE DINK IT HERE I THINK YOU NEVER A WANNA SO \n",
      "\n",
      "[20m 34s (3200 64%) 1.2974]\n",
      "Wh HAIR JEARSICE TO SO NO LET YOU WANT IT BABY \n",
      "BEST UP TO WANT YOU LICES ALL I WANT ALL NO DO HEOP HE \n",
      "\n",
      "[21m 12s (3300 66%) 1.3829]\n",
      "Wh RIGHT I LOVE FINGER GOT TO FEEL THE GIRL FLE LIKE YOU GIRL WITH MY OVER'T DON'T SGET THINK THE WALK \n",
      "\n",
      "[21m 50s (3400 68%) 1.2142]\n",
      "Wh \n",
      "I WAS WHILE A THAT YOU CARES \n",
      "HE COMANCE TO MYSELF COME ON EM NO \n",
      "SLEEP IN THE CANCT \n",
      "I'M TRYING O \n",
      "\n",
      "[22m 29s (3500 70%) 1.4462]\n",
      "Wh WITH THE I'M HEART OG SO THE CLOOKING RIGHT BE TO MISTER I WOULD BE THERE'S NOTHINE KNOW I WANNA MA \n",
      "\n",
      "[23m 8s (3600 72%) 1.1113]\n",
      "Wh LIKE THAT THE ALL \n",
      "AND YEAH YEAH ME HER LOVE AND ONE AND WANNA MEAN TO THE SCAHING IN LOVE I'VE BEE \n",
      "\n",
      "[23m 48s (3700 74%) 1.5530]\n",
      "Wh HEART SHE BABLE YOU DON'T KISS HIT I'M POKING SO \n",
      "IN THE CONSILING OR AND LIKE A PLACE LOVE YOU KNO \n",
      "\n",
      "[24m 27s (3800 76%) 1.5498]\n",
      "Wh SO STREAP THE STAIT I CAN OVER DON'T TRUAKE YOU THE NEW AND MAKE YOU'RE BEAT I KNOW I'M SEE SO HAND \n",
      "\n",
      "[25m 6s (3900 78%) 1.4191]\n",
      "Wh I'LL \n",
      "HEAR \n",
      "THE SAME BROKEN ALL LUSADIZE THE FAILO SO DOW DEEPING YOU WHEN YOU'RE BABY I WOULD DO D \n",
      "\n",
      "[25m 45s (4000 80%) 0.7909]\n",
      "Wh HOUDER US BIRE \n",
      "THE REASING WE'VE HERE WRONTLED IT ALB AND NOT YOUR HOULDEN CARVING WE'RE TRACK WE' \n",
      "\n",
      "[26m 23s (4100 82%) 1.3174]\n",
      "Wh I MISTAKE YOU'RE HAVE \n",
      "P WILLS \n",
      "I SWEAT \n",
      "AND THE GIRL \n",
      "FACE \n",
      "FOR HE PERSEVER \n",
      "COULD BE BUT I SAID N \n",
      "\n",
      "[27m 2s (4200 84%) 1.2996]\n",
      "Wh HEY POWER MIST UP WHO AND TRYING OF THE WORLDS ON I DON'T WAS JUST A BREAK ONE BATTER TO BE \n",
      "I'D BE \n",
      "\n",
      "[27m 41s (4300 86%) 1.2048]\n",
      "WhMANZ ME CUZ YOU THE GAND I LOVE TO SPECT YOU DON'T YOU ARE HIDE YOU MORTHER CRAZY NOW YEAH YEAH YEAH \n",
      "\n",
      "[28m 21s (4400 88%) 1.4092]\n",
      "WhNER SO SO MY TO SO I KNOW I WANT YOU FORME \n",
      "I COUPS YOU KNOW YOU BAD ROMMING YOU AND I DID \n",
      "I SEAND  \n",
      "\n",
      "[29m 1s (4500 90%) 1.3146]\n",
      "Wh \n",
      "I COULD BABY BABY BABY BABY BABY BAD BABY BABY BABY BABY BABY BABY BABY BABY BAD AND I WANNA WRONG \n",
      "\n",
      "[29m 40s (4600 92%) 1.3451]\n",
      "WhRE TO THE CHANGE OF SAND LET ME \n",
      "I DON'T NEVER HILL BE THE COVE IF IS FORGET YOU BEST COULD BE THE C \n",
      "\n",
      "[30m 18s (4700 94%) 1.3234]\n",
      "Wh OF OF THE HAPPY OF CAN'T MEAN THE WRONG TO MY WILL A DREAM \n",
      "DON'T LIKE I'M NOT TO COOLY MINE MATHER \n",
      "\n",
      "[30m 57s (4800 96%) 1.6868]\n",
      "Wh LOOK I WANNA HEART \n",
      "IN SHE ALL YOU WASN'T TEAR RRIGHT NOW \n",
      "YOUR GHAT YOU KNOW THE NEW OH ONLY WILL  \n",
      "\n",
      "[31m 36s (4900 98%) 1.4538]\n",
      "Wh \n",
      "ME NIT DO SO I THE OUTCA SO SAY WE GOT MY KISSAD THE SKILL BECAUS SO HIT SHOT COME THEN MAKES THAT \n",
      "\n",
      "[32m 17s (5000 100%) 1.5643]\n",
      "Wh WITHOUT ME TO ME ONE \n",
      "I'M FRIEND I'M BELIEVE A MISTOLF AROD TRYING IS TO FINE CO THIS WAY HOW IT'S  \n",
      "\n"
     ]
    }
   ],
   "source": [
    "n_epochs = 5000\n",
    "print_every = 100\n",
    "plot_every = 10\n",
    "hidden_size = 100\n",
    "n_layers = 2\n",
    "lr = 0.005\n",
    "\n",
    "decoder = RNN(n_characters, hidden_size, n_characters, n_layers)\n",
    "decoder_optimizer = torch.optim.Adam(decoder.parameters(), lr=lr)\n",
    "criterion = nn.CrossEntropyLoss()\n",
    "\n",
    "start = time.time()\n",
    "all_losses = []\n",
    "loss_avg = 0\n",
    "\n",
    "for epoch in range(1, n_epochs + 1):\n",
    "    loss = train(*random_training_set())       \n",
    "    loss_avg += loss\n",
    "\n",
    "    if epoch % print_every == 0:\n",
    "        print('[%s (%d %d%%) %.4f]' % (time_since(start), epoch, epoch / n_epochs * 100, loss))\n",
    "        print(evaluate('Wh', 100)[0], '\\n')\n",
    "\n",
    "    if epoch % plot_every == 0:\n",
    "        all_losses.append(loss_avg / plot_every)\n",
    "        loss_avg = 0"
   ]
  },
  {
   "cell_type": "markdown",
   "metadata": {},
   "source": [
    "# Plotting the Training Losses\n",
    "\n",
    "Plotting the historical loss from all_losses shows the network learning:"
   ]
  },
  {
   "cell_type": "code",
   "execution_count": 10,
   "metadata": {},
   "outputs": [
    {
     "data": {
      "text/plain": [
       "[<matplotlib.lines.Line2D at 0x27ea72e52e8>]"
      ]
     },
     "execution_count": 10,
     "metadata": {},
     "output_type": "execute_result"
    },
    {
     "data": {
      "image/png": "[encoded data removed]",
      "text/plain": [
       "<Figure size 432x288 with 1 Axes>"
      ]
     },
     "metadata": {
      "needs_background": "light"
     },
     "output_type": "display_data"
    }
   ],
   "source": [
    "import matplotlib.pyplot as plt\n",
    "import matplotlib.ticker as ticker\n",
    "%matplotlib inline\n",
    "\n",
    "plt.figure()\n",
    "plt.plot(all_losses)"
   ]
  },
  {
   "cell_type": "markdown",
   "metadata": {},
   "source": [
    "# Evaluating at different \"temperatures\"\n",
    "\n",
    "In the `evaluate` function above, every time a prediction is made the outputs are divided by the \"temperature\" argument passed. Using a higher number makes all actions more equally likely, and thus gives us \"more random\" outputs. Using a lower value (less than 1) makes high probabilities contribute more. As we turn the temperature towards zero we are choosing only the most likely outputs.\n",
    "\n",
    "We can see the effects of this by adjusting the `temperature` argument."
   ]
  },
  {
   "cell_type": "code",
   "execution_count": 11,
   "metadata": {},
   "outputs": [
    {
     "name": "stdout",
     "output_type": "stream",
     "text": [
      "YOUR LIFE AS ME SOMEBODY I DON'T SOMEBODY I'M HA'LL BREAK IT ME FEET AND MY LIVE IT TO ME FRIENDS \n",
      "YEAH YEAH \n",
      "I'D MY PLINE WANT YOU FEEL IT FLY \n",
      "THEY DON'T KNOW I'LL NEVER CAN BREAKING IN THE WRONG TO THE ARE \n",
      "MY LIFE ON A SEEMS AND I WANT YOUR FEAL LOVE YOU FELL TURN TOLUND I'LL KNOW I COULDN'T TO EVER HEART AND CHANGE \n",
      "LIFE'T THE GIRL \n",
      "LIFE FORG IN YOUR HADDED \n",
      "FINE EVERYTHING MY KNEED ME IN FOR MY RIGHT I COULD HER HAD BAD SO I WANT YOUR HEAR THEY TROUBLE BE THE GROUND IN AND \n",
      "OPE OFF TAKE TELL MY ELANE CLAP \n",
      "I WILL TELL THE SMELL \n",
      "I DID IN FLY FIEVES IN MY BODY IF YEAH YEAH NEED TO TO BE CRACKS WHEN YOUR EM RIGHT NOW I THOUGHT \n",
      "YEAR EVERYTHING AFTER MES I COULD PLEASE FOR YOUR HELL NEVER BELIEVE IT BUT I NEVER LET OF LEAGE \n",
      "CUT FOR CRANG BUT I WANNA DELLY I KNOW DEELCE YOU'LL FREST DON'T SEE \n",
      "OF YOU SAY YOU SHOT HIDE IN THE NEW OTHER FRIEND FOR CHER I LIEP AND FIVE THIS WAY TOLD BEFORE IT NOT OFF THERE \n",
      "I'M LOVE FOR HIDE YOUR THINGS I \n",
      "I'M CHANG FIND YOUR EYEST OH I'M ON LIKE A PROPIC\n"
     ]
    }
   ],
   "source": [
    "print(evaluate('YOU', 1000, temperature=0.8)[0])"
   ]
  },
  {
   "cell_type": "markdown",
   "metadata": {},
   "source": [
    "Lower temperatures are less varied, choosing only the more probable outputs:"
   ]
  },
  {
   "cell_type": "code",
   "execution_count": 12,
   "metadata": {},
   "outputs": [
    {
     "name": "stdout",
     "output_type": "stream",
     "text": [
      "YOU DON'T MEAN YOU DON'T KNOW I WANNA FINE FIX YOUR HEART AND I WANNA BE A BREAK IT COME CLOSE THE FIRE FINE THIS WAY I WANNA BE A GOOD BUT I COULD BE THE FIRE TO MAKE YOU FEEL LIKE A FRIEND IT FINE THE FIRE THAT YOU FEEL LIKE THIS WAY TO THE FIRE COME TO THE FIRE CLOSE THE FIRE THE FIRE CLOOLING TO THE FIRE FOOL THE FIRE COME TO COME AND I CAN BREAK IT TO THE FIRE THE FIRE IT TO LOVE YOU KNOW I WANT YOUR HEART AND I'M SOMEBODY I WANT YOUR BEEN IN THE FIRE CLOSE THE FIRE COME TO THE FIRE LIKE THIS WAY TO THE FIRE CLOSE IT AND I'M LIKE THE WAY YOU CAN FLY I DON'T KNOW WHO HEAD I DON'T THE FIRE FINE I DON'T KNOW WHAT YOU CAN BE THE FIRE COME TO ME AND I WANT YOUR BEEN IN THE FIRE FIRE CHANGE IF I CAN BE AND THE FIRE IT IN THE FIRE FINE THE LIFE HOW THE FIRE THE WORLD I DON'T KNOW I WANNA FEEL THE SEA TO MAKE IT IN THE FIRE FINE FOR YOU FEEL LIKE A FRIEND IT TO THE FIRE TO MAKE IT IN THE FIRE FINE YOU AND I'M LOVE YOU GOT TO THE FIRE FOR YOU DON'T KNOW YOU AND I WANNA FEEL LIE COULD BE AND F\n"
     ]
    }
   ],
   "source": [
    "print(evaluate('YOU', 1000, temperature=0.2)[0])"
   ]
  },
  {
   "cell_type": "markdown",
   "metadata": {},
   "source": [
    "Higher temperatures more varied, choosing less probable outputs:"
   ]
  },
  {
   "cell_type": "code",
   "execution_count": 13,
   "metadata": {},
   "outputs": [
    {
     "name": "stdout",
     "output_type": "stream",
     "text": [
      "YOURD FELKS IT IN I FEEL FLINING ULCOLCLOX ALWAY EVEN BORN TO GOODBECIS FALLING'S JAN WHYAIR ARS TO FLY DIDNE\n",
      "TECARESSISING HONE BOLD FLESS YOU AND EASY LOW WHY TALLY AND ALL THE PEOPLE SOMEBODY \n",
      "IS WHOUCSRNIABLEED \n",
      "ME IN MY I DONUBL TRYING TOLD TELL \n",
      "BEAUTIFUL A FORMS TO MINEMER IT IN I HANIFUN OW WROND OURLAZZY NABOLY AND \n",
      "NO IDONKITITIL IT NOT JOMY YOUR FARPLASHED MY HANNS TOLD BEST AINNA HEART SOULW IN CONTHER WORDS AROUND AND TIFFFED I NIMJ TO US CRY US DOWN'T HOME \n",
      "THE DIRE THAT I KNWO FILL YOU WIKER I WANNA FFELLSPECTIITE CAN THER ITN NA LRINE YEEA\"NTIDG WITKES BURN BORN TRIED TO SRNAIGHT I THINTS TO BETEVER DAY I'LL SAIDN'T GIVISSING IT PAUS AND TOPRING'S \n",
      "LAGEASICAN AND I'LL GIRLLING WHENE \n",
      "MY AND DOLDET STOP PEQOUGUH HITCR TO IF I FELL IN ME AND TOTLIGOT CLOLD \n",
      "LET YOU WE LOMING BIGUS SHE HAPDOTTERGY TOFFY A RRILITAIRING I'D GOUT I'M CLAND A QUE THE I'VE AINNING BADINSNETHER REHLS CUZING WANTOUS STAY KNOW FEY FRRRGIEVER FOR IT AND THE FEART MUNY \n",
      "IF A DEEEFLE\n",
      "LIE I KNOW CHEASEN \n"
     ]
    }
   ],
   "source": [
    "print(evaluate('YOU', 1000, temperature=1.4)[0])"
   ]
  },
  {
   "cell_type": "markdown",
   "metadata": {},
   "source": [
    "# perplexity"
   ]
  },
  {
   "cell_type": "code",
   "execution_count": 42,
   "metadata": {},
   "outputs": [],
   "source": [
    "prime_str_len = 100\n",
    "train_data_str = random_chunk()\n",
    "val_data_str = random_chunk_val()[:-1]\n",
    "random_str = nonsense_chunk()"
   ]
  },
  {
   "cell_type": "code",
   "execution_count": 43,
   "metadata": {},
   "outputs": [
    {
     "data": {
      "text/plain": [
       "3.6023459094834127"
      ]
     },
     "execution_count": 43,
     "metadata": {},
     "output_type": "execute_result"
    }
   ],
   "source": [
    "predicted, perplexity = evaluate(train_data_str, prime_str_len, temperature=0.8)\n",
    "perplexity"
   ]
  },
  {
   "cell_type": "code",
   "execution_count": 44,
   "metadata": {},
   "outputs": [
    {
     "data": {
      "text/plain": [
       "4.140773127271072"
      ]
     },
     "execution_count": 44,
     "metadata": {},
     "output_type": "execute_result"
    }
   ],
   "source": [
    "predicted, perplexity = evaluate(val_data_str, prime_str_len, temperature=0.8)\n",
    "perplexity"
   ]
  },
  {
   "cell_type": "code",
   "execution_count": 45,
   "metadata": {},
   "outputs": [
    {
     "data": {
      "text/plain": [
       "9.115670415785104"
      ]
     },
     "execution_count": 45,
     "metadata": {},
     "output_type": "execute_result"
    }
   ],
   "source": [
    "predicted, perplexity = evaluate(random_str, prime_str_len, temperature=0.8)\n",
    "perplexity"
   ]
  },
  {
   "cell_type": "code",
   "execution_count": null,
   "metadata": {},
   "outputs": [],
   "source": []
  }
 ],
 "metadata": {
  "anaconda-cloud": {},
  "kernelspec": {
   "display_name": "Python 3",
   "language": "python",
   "name": "python3"
  },
  "language_info": {
   "codemirror_mode": {
    "name": "ipython",
    "version": 3
   },
   "file_extension": ".py",
   "mimetype": "text/x-python",
   "name": "python",
   "nbconvert_exporter": "python",
   "pygments_lexer": "ipython3",
   "version": "3.6.8"
  }
 },
 "nbformat": 4,
 "nbformat_minor": 1
}
